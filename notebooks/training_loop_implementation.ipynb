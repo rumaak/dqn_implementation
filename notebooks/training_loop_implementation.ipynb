{
 "cells": [
  {
   "cell_type": "markdown",
   "metadata": {},
   "source": [
    "# Training loop implementation"
   ]
  },
  {
   "cell_type": "markdown",
   "metadata": {},
   "source": [
    "Notebook for development of training loop"
   ]
  },
  {
   "cell_type": "code",
   "execution_count": 1,
   "metadata": {},
   "outputs": [],
   "source": [
    "import time\n",
    "import random\n",
    "import gym\n",
    "import numpy as np\n",
    "import torch\n",
    "import torch.nn.functional as F\n",
    "import torch.optim as optim\n",
    "import matplotlib.pyplot as plt\n",
    "from tqdm.notebook import tqdm\n",
    "\n",
    "from dqn_implementation.model import DQN\n",
    "from dqn_implementation.data.utilities import rgb2grayscale\n",
    "from skimage.transform import resize"
   ]
  },
  {
   "cell_type": "code",
   "execution_count": null,
   "metadata": {},
   "outputs": [],
   "source": [
    "# TODO Hyperparameter search and training"
   ]
  },
  {
   "cell_type": "code",
   "execution_count": 28,
   "metadata": {},
   "outputs": [],
   "source": [
    "env = gym.make('Breakout-v0')\n",
    "\n",
    "batch_size = 32\n",
    "epochs = 200\n",
    "action_count = env.action_space.n\n",
    "\n",
    "# +1s are added because of the way states are acquired (second state is new state for first state)\n",
    "stacked_frames = 4\n",
    "# replay_memory_size = 1_000_000\n",
    "replay_memory_size = 10_000 + 1\n",
    "# replay_start_size = 50_000\n",
    "replay_start_size = 500 + 1 \n",
    "action_repeat = 4\n",
    "update_frequency = 4\n",
    "noop_max = 30\n",
    "scaling_factor = 0.99\n",
    "# network_update_frequency = 10_000\n",
    "network_update_frequency = 100\n",
    "# end_eps_frame = 1_000_000\n",
    "end_eps_frame = 10_000\n",
    "eps_beg = 1.0\n",
    "eps_end = 0.1\n",
    "eps_step = (eps_beg - eps_end) / end_eps_frame\n",
    "\n",
    "episodes_end = np.zeros((replay_memory_size), dtype=bool)\n",
    "\n",
    "device = torch.device('cuda')"
   ]
  },
  {
   "cell_type": "code",
   "execution_count": 29,
   "metadata": {},
   "outputs": [],
   "source": [
    "dqn_current = DQN(action_count).to(device)\n",
    "dqn_new = DQN(action_count).to(device)\n",
    "dqn_new.load_state_dict(dqn_current.state_dict())\n",
    "\n",
    "# optimizer = optim.RMSprop(dqn_new.parameters(), lr=25e-5, momentum=0.95, eps=0.01, alpha=0.95)\n",
    "optimizer = optim.RMSprop(dqn_new.parameters(), lr=25e-7, momentum=0.95, eps=0.01, alpha=0.95)\n",
    "# optimizer = optim.SGD(dqn_new.parameters(), lr=0.00001)"
   ]
  },
  {
   "cell_type": "code",
   "execution_count": 30,
   "metadata": {},
   "outputs": [],
   "source": [
    "# These four together form the memory consisting of experiences e = (s,a,r,s')\n",
    "states = np.zeros(shape=(replay_memory_size, stacked_frames, 84, 84))\n",
    "actions = np.zeros(shape=(replay_memory_size))\n",
    "rewards = np.zeros(shape=(replay_memory_size))\n",
    "\n",
    "total_frames = 0\n",
    "memory_frames = 0"
   ]
  },
  {
   "cell_type": "code",
   "execution_count": 31,
   "metadata": {},
   "outputs": [
    {
     "data": {
      "application/vnd.jupyter.widget-view+json": {
       "model_id": "9fe144f2e536436197af0238375126cd",
       "version_major": 2,
       "version_minor": 0
      },
      "text/plain": [
       "HBox(children=(IntProgress(value=0, max=200), HTML(value='')))"
      ]
     },
     "metadata": {},
     "output_type": "display_data"
    },
    {
     "name": "stdout",
     "output_type": "stream",
     "text": [
      "\n",
      "121698\n"
     ]
    },
    {
     "data": {
      "image/png": "[encoded data removed]",
      "text/plain": [
       "<Figure size 432x288 with 1 Axes>"
      ]
     },
     "metadata": {
      "needs_background": "light"
     },
     "output_type": "display_data"
    }
   ],
   "source": [
    "reward_sum = np.zeros(shape=(epochs))\n",
    "losses = []\n",
    "\n",
    "for epoch in tqdm(range(epochs)):\n",
    "    env.reset()\n",
    "    \n",
    "    last_frames = np.zeros(shape=(stacked_frames, 84, 84))\n",
    "    last_frame = np.zeros(shape=(210, 160, 3))\n",
    "\n",
    "    previous_action = None\n",
    "\n",
    "    noops = 0    \n",
    "    episode_frames = 0\n",
    "    \n",
    "    while(True):\n",
    "        env.render()\n",
    "        # Interact with environment\n",
    "        action = None\n",
    "        epsilon = max(eps_beg - (total_frames * eps_step), eps_end)\n",
    "\n",
    "        if episode_frames % action_repeat == 0:\n",
    "            if random.random() < epsilon:\n",
    "                action = env.action_space.sample()\n",
    "            else:\n",
    "                inp_torch = torch.from_numpy(last_frames[None, :]).float().to(device)\n",
    "                action_torch = dqn_current(inp_torch).argmax(axis=1)[0]\n",
    "                action = action_torch.cpu().detach().numpy()\n",
    "        else:\n",
    "            action = previous_action\n",
    "\n",
    "        observation, reward, done, info = env.step(action)\n",
    "        \n",
    "        # Clip reward\n",
    "        reward = min(reward, 1.0)\n",
    "        \n",
    "        # Saving data for memory replay\n",
    "        if episode_frames > (stacked_frames - 1):\n",
    "            states[memory_frames % replay_memory_size] = last_frames\n",
    "            actions[memory_frames % replay_memory_size] = action\n",
    "            rewards[memory_frames % replay_memory_size] = reward\n",
    "            \n",
    "            # If this is the last point of episode, mark it in episodes_end array\n",
    "            if done or (noops >= 30):\n",
    "                episodes_end[memory_frames % replay_memory_size] = True\n",
    "            else:\n",
    "                episodes_end[memory_frames % replay_memory_size] = False\n",
    "            \n",
    "            memory_frames += 1\n",
    "\n",
    "        previous_action = action\n",
    "\n",
    "        # Max over last two frames, conversion RGB -> grayscale, rescale\n",
    "        frame = np.where(last_frame > observation, last_frame, observation)\n",
    "        frame = rgb2grayscale(frame)\n",
    "        frame = resize(frame, (84, 84))\n",
    "\n",
    "        # Stacking last four frames and assigning last frame (observation)\n",
    "        last_frames = np.concatenate((last_frames[1:], frame[None, :]))\n",
    "        last_frame = observation\n",
    "\n",
    "        # Training\n",
    "        if memory_frames >= replay_start_size:\n",
    "            if total_frames % (update_frequency * action_repeat) == 0:\n",
    "                # -1 because of shifted states\n",
    "                experience_count = min(memory_frames, replay_memory_size - 1)\n",
    "                episodes_end_indices = np.array(episodes_end).nonzero()[0]\n",
    "                batch_indices = np.random.choice(range(experience_count-1), batch_size, False)\n",
    "                \n",
    "                s = torch.from_numpy(states[batch_indices]).float().to(device) \n",
    "                a = torch.from_numpy(actions[batch_indices]).float().to(device) \n",
    "                r = torch.from_numpy(rewards[batch_indices]).float().to(device) \n",
    "                sn = torch.from_numpy(states[batch_indices+1]).float().to(device) \n",
    "                \n",
    "                # Mask out rewards of new states when new state isn't terminal\n",
    "                episodes_end_mask = torch.from_numpy((batch_indices[:, None] == episodes_end_indices[None, :]).any(axis=1)).to(device)\n",
    "                \n",
    "                # Select only outputs corresponding to selected actions\n",
    "                output_current = dqn_current(sn)[range(batch_size), a.to(torch.long)]\n",
    "                output_new = dqn_new(s)[range(batch_size), a.to(torch.long)]\n",
    "                \n",
    "                # IF current state is the last state of episode, don't compute value of new state\n",
    "                output_current = torch.where(episodes_end_mask, torch.zeros(batch_size, device=device) , output_current)\n",
    "                \n",
    "                target = r + (scaling_factor * output_current)\n",
    "\n",
    "                optimizer.zero_grad()\n",
    "\n",
    "                loss = F.mse_loss(output_new, target)\n",
    "                losses.append(loss.detach())\n",
    "                loss.backward()\n",
    "\n",
    "                optimizer.step()\n",
    "\n",
    "            if total_frames % network_update_frequency == 0:\n",
    "                dqn_current.load_state_dict(dqn_new.state_dict())\n",
    "\n",
    "        if action == 0 and episode_frames < noop_max:\n",
    "            noops += 1\n",
    "        else:\n",
    "            noops = 0\n",
    "            \n",
    "        reward_sum[epoch] += reward\n",
    "\n",
    "        episode_frames += 1\n",
    "        total_frames += 1\n",
    "        \n",
    "#         time.sleep(0.01)\n",
    "            \n",
    "        if done or (noops >= 30):\n",
    "            noops = 0\n",
    "            break\n",
    "            \n",
    "print(total_frames)\n",
    "fig, ax = plt.subplots()\n",
    "# ax.plot(range(1, epochs+1), reward_sum)\n",
    "ax.plot(range(1, len(losses)+1), losses)\n",
    "env.close()"
   ]
  },
  {
   "cell_type": "code",
   "execution_count": 32,
   "metadata": {},
   "outputs": [
    {
     "data": {
      "text/plain": [
       "[tensor(0.0030, device='cuda:0'),\n",
       " tensor(0.0078, device='cuda:0'),\n",
       " tensor(0.0023, device='cuda:0'),\n",
       " tensor(0.0060, device='cuda:0'),\n",
       " tensor(0.0122, device='cuda:0'),\n",
       " tensor(0.0011, device='cuda:0'),\n",
       " tensor(0.0034, device='cuda:0'),\n",
       " tensor(0.0027, device='cuda:0'),\n",
       " tensor(0.0027, device='cuda:0'),\n",
       " tensor(0.0013, device='cuda:0'),\n",
       " tensor(0.0004, device='cuda:0'),\n",
       " tensor(0.0100, device='cuda:0'),\n",
       " tensor(0.0026, device='cuda:0'),\n",
       " tensor(0.0023, device='cuda:0'),\n",
       " tensor(0.0025, device='cuda:0'),\n",
       " tensor(0.0030, device='cuda:0'),\n",
       " tensor(0.0014, device='cuda:0'),\n",
       " tensor(0.0258, device='cuda:0'),\n",
       " tensor(0.0021, device='cuda:0'),\n",
       " tensor(0.0017, device='cuda:0'),\n",
       " tensor(0.0018, device='cuda:0'),\n",
       " tensor(0.0030, device='cuda:0'),\n",
       " tensor(0.0028, device='cuda:0'),\n",
       " tensor(0.0145, device='cuda:0'),\n",
       " tensor(0.0054, device='cuda:0'),\n",
       " tensor(0.0019, device='cuda:0'),\n",
       " tensor(0.0007, device='cuda:0'),\n",
       " tensor(0.0008, device='cuda:0'),\n",
       " tensor(0.0042, device='cuda:0'),\n",
       " tensor(0.0030, device='cuda:0'),\n",
       " tensor(0.0025, device='cuda:0'),\n",
       " tensor(0.0508, device='cuda:0'),\n",
       " tensor(0.0162, device='cuda:0'),\n",
       " tensor(0.0051, device='cuda:0'),\n",
       " tensor(0.0100, device='cuda:0'),\n",
       " tensor(0.0139, device='cuda:0'),\n",
       " tensor(0.0018, device='cuda:0'),\n",
       " tensor(0.0046, device='cuda:0'),\n",
       " tensor(0.0029, device='cuda:0'),\n",
       " tensor(0.0018, device='cuda:0'),\n",
       " tensor(0.0007, device='cuda:0'),\n",
       " tensor(0.0020, device='cuda:0'),\n",
       " tensor(0.0021, device='cuda:0'),\n",
       " tensor(0.0027, device='cuda:0'),\n",
       " tensor(0.0006, device='cuda:0'),\n",
       " tensor(0.0039, device='cuda:0'),\n",
       " tensor(0.0009, device='cuda:0'),\n",
       " tensor(0.0027, device='cuda:0'),\n",
       " tensor(0.0027, device='cuda:0'),\n",
       " tensor(0.0054, device='cuda:0')]"
      ]
     },
     "execution_count": 32,
     "metadata": {},
     "output_type": "execute_result"
    }
   ],
   "source": [
    "[-50:]"
   ]
  },
  {
   "cell_type": "code",
   "execution_count": 33,
   "metadata": {},
   "outputs": [
    {
     "data": {
      "text/plain": [
       "[tensor(0.0232, device='cuda:0'),\n",
       " tensor(0.6066, device='cuda:0'),\n",
       " tensor(0.1189, device='cuda:0'),\n",
       " tensor(0.4720, device='cuda:0'),\n",
       " tensor(0.6280, device='cuda:0')]"
      ]
     },
     "execution_count": 33,
     "metadata": {},
     "output_type": "execute_result"
    }
   ],
   "source": [
    "losses[:5]"
   ]
  },
  {
   "cell_type": "code",
   "execution_count": 34,
   "metadata": {},
   "outputs": [
    {
     "data": {
      "text/plain": [
       "[<matplotlib.lines.Line2D at 0x7f59ec4e0a90>]"
      ]
     },
     "execution_count": 34,
     "metadata": {},
     "output_type": "execute_result"
    },
    {
     "data": {
      "image/png": "[encoded data removed]",
      "text/plain": [
       "<Figure size 432x288 with 1 Axes>"
      ]
     },
     "metadata": {
      "needs_background": "light"
     },
     "output_type": "display_data"
    }
   ],
   "source": [
    "\n",
    "fig, ax = plt.subplots()\n",
    "ax.plot(range(1, epochs+1), reward_sum)"
   ]
  },
  {
   "cell_type": "code",
   "execution_count": null,
   "metadata": {},
   "outputs": [],
   "source": []
  }
 ],
 "metadata": {
  "kernelspec": {
   "display_name": "Python 3",
   "language": "python",
   "name": "python3"
  },
  "language_info": {
   "codemirror_mode": {
    "name": "ipython",
    "version": 3
   },
   "file_extension": ".py",
   "mimetype": "text/x-python",
   "name": "python",
   "nbconvert_exporter": "python",
   "pygments_lexer": "ipython3",
   "version": "3.7.4"
  }
 },
 "nbformat": 4,
 "nbformat_minor": 4
}
